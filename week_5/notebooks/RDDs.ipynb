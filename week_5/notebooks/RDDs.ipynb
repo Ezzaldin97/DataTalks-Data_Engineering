{
 "cells": [
  {
   "cell_type": "code",
   "execution_count": 38,
   "id": "76192af6",
   "metadata": {},
   "outputs": [],
   "source": [
    "import pyspark\n",
    "from pyspark.sql import SparkSession\n",
    "from pyspark.sql import functions as F\n",
    "import pandas as pd"
   ]
  },
  {
   "cell_type": "code",
   "execution_count": 2,
   "id": "6cc0c726",
   "metadata": {},
   "outputs": [
    {
     "name": "stderr",
     "output_type": "stream",
     "text": [
      "Setting default log level to \"WARN\".\n",
      "To adjust logging level use sc.setLogLevel(newLevel). For SparkR, use setLogLevel(newLevel).\n"
     ]
    },
    {
     "name": "stdout",
     "output_type": "stream",
     "text": [
      "22/11/29 21:27:51 WARN NativeCodeLoader: Unable to load native-hadoop library for your platform... using builtin-java classes where applicable\n"
     ]
    }
   ],
   "source": [
    "spark = SparkSession.builder.master('local[*]').appName('test').getOrCreate()"
   ]
  },
  {
   "cell_type": "code",
   "execution_count": 3,
   "id": "26554237",
   "metadata": {},
   "outputs": [
    {
     "name": "stderr",
     "output_type": "stream",
     "text": [
      "[Stage 1:>                                                          (0 + 1) / 1]\r"
     ]
    },
    {
     "name": "stdout",
     "output_type": "stream",
     "text": [
      "+--------+-------------------+-------------------+------------------+----------+------------+------------+---------------+-------------+-----------+-----+-------+----------+------------+---------------------+------------+------------+--------------------+------------+\n",
      "|VendorID|    pickup_datetime|   dropoff_datetime|store_and_fwd_flag|RatecodeID|PULocationID|DOLocationID|passenger_count|trip_distance|fare_amount|extra|mta_tax|tip_amount|tolls_amount|improvement_surcharge|total_amount|payment_type|congestion_surcharge|service_type|\n",
      "+--------+-------------------+-------------------+------------------+----------+------------+------------+---------------+-------------+-----------+-----+-------+----------+------------+---------------------+------------+------------+--------------------+------------+\n",
      "|       2|2022-05-01 20:57:59|2022-05-01 21:15:57|                 N|       1.0|         130|         179|            1.0|         10.1|       28.5|  0.5|    0.5|      5.96|         0.0|                  0.3|       35.76|         1.0|                 0.0|       green|\n",
      "|       1|2022-05-16 09:54:51|2022-05-16 10:13:27|                 N|       1.0|          97|         225|            1.0|          0.0|       19.2|  0.0|    0.5|       0.0|         0.0|                  0.3|        20.0|         1.0|                 0.0|       green|\n",
      "|       2|2022-03-16 14:54:09|2022-03-16 15:07:28|                 N|       1.0|          74|          75|            1.0|         1.69|       10.0|  1.0|    0.5|       0.0|         0.0|                  0.3|        11.8|         2.0|                 0.0|       green|\n",
      "|       2|2022-03-23 18:12:08|2022-03-23 18:15:14|                 N|       1.0|          95|          95|            1.0|         0.63|        4.5|  1.0|    0.5|       2.0|         0.0|                  0.3|         8.3|         1.0|                 0.0|       green|\n",
      "|       2|2022-05-24 08:56:50|2022-05-24 09:24:58|                 N|       1.0|          41|         145|            1.0|          4.9|       21.0|  0.0|    0.5|       0.0|         0.0|                  0.3|       24.55|         1.0|                2.75|       green|\n",
      "|       2|2022-05-26 09:44:57|2022-05-26 10:02:14|                 N|       1.0|         129|         193|            1.0|         2.83|       13.5|  0.0|    0.5|      1.72|         0.0|                  0.3|       16.02|         1.0|                 0.0|       green|\n",
      "|       2|2022-03-18 11:45:19|2022-03-18 12:01:11|                 N|       1.0|          42|         238|            1.0|         2.54|       12.0|  0.0|    0.5|       0.0|         0.0|                  0.3|       15.55|         2.0|                2.75|       green|\n",
      "|       2|2022-03-04 20:45:40|2022-03-04 20:54:35|                 N|       1.0|          95|         135|            1.0|         2.03|        9.0|  0.5|    0.5|      1.54|         0.0|                  0.3|       11.84|         1.0|                 0.0|       green|\n",
      "|       1|2022-03-28 16:51:37|2022-03-28 17:04:32|                 N|       1.0|          75|          42|            2.0|          1.6|       10.0|  1.0|    0.5|       0.0|         0.0|                  0.3|        11.8|         2.0|                 0.0|       green|\n",
      "|       2|2022-05-01 19:07:26|2022-05-01 19:21:06|                 N|       1.0|         166|         244|            1.0|         2.91|       12.5|  0.0|    0.5|      3.32|         0.0|                  0.3|       16.62|         1.0|                 0.0|       green|\n",
      "+--------+-------------------+-------------------+------------------+----------+------------+------------+---------------+-------------+-----------+-----+-------+----------+------------+---------------------+------------+------------+--------------------+------------+\n",
      "only showing top 10 rows\n",
      "\n"
     ]
    },
    {
     "name": "stderr",
     "output_type": "stream",
     "text": [
      "                                                                                \r"
     ]
    }
   ],
   "source": [
    "df = spark.read.parquet('/home/ezzaldin/data/taxi_tripdata/all_data_part.parquet')\n",
    "df.show(10)"
   ]
  },
  {
   "cell_type": "code",
   "execution_count": 17,
   "id": "813cf7b6",
   "metadata": {},
   "outputs": [
    {
     "name": "stdout",
     "output_type": "stream",
     "text": [
      "+-------------------+------------+------------+\n",
      "|    pickup_datetime|PULocationID|total_amount|\n",
      "+-------------------+------------+------------+\n",
      "|2022-05-01 20:57:59|         130|       35.76|\n",
      "|2022-05-16 09:54:51|          97|        20.0|\n",
      "|2022-03-16 14:54:09|          74|        11.8|\n",
      "|2022-03-23 18:12:08|          95|         8.3|\n",
      "|2022-05-24 08:56:50|          41|       24.55|\n",
      "+-------------------+------------+------------+\n",
      "only showing top 5 rows\n",
      "\n"
     ]
    }
   ],
   "source": [
    "green_df = df.filter(df['service_type'] == 'green')\\\n",
    "             .select('pickup_datetime', 'PULocationID', 'total_amount')\n",
    "green_df.show(5)"
   ]
  },
  {
   "cell_type": "code",
   "execution_count": 8,
   "id": "cb7b9373",
   "metadata": {},
   "outputs": [],
   "source": [
    "df.createOrReplaceTempView('df_view')"
   ]
  },
  {
   "cell_type": "code",
   "execution_count": 13,
   "id": "1a5704b1",
   "metadata": {},
   "outputs": [
    {
     "name": "stderr",
     "output_type": "stream",
     "text": [
      "[Stage 11:=============================>                            (3 + 3) / 6]\r"
     ]
    },
    {
     "name": "stdout",
     "output_type": "stream",
     "text": [
      "+-------------------+----+------------------+--------------+\n",
      "|               hour|zone|            amount|number_records|\n",
      "+-------------------+----+------------------+--------------+\n",
      "|2022-03-14 11:00:00|  75|440.38000000000005|            25|\n",
      "|2022-05-12 10:00:00|  75|381.19999999999993|            20|\n",
      "|2022-05-09 19:00:00|  92|123.19999999999999|             4|\n",
      "|2022-03-02 09:00:00|  43|            109.55|             5|\n",
      "|2022-05-10 18:00:00|  74|            561.62|            30|\n",
      "+-------------------+----+------------------+--------------+\n",
      "only showing top 5 rows\n",
      "\n"
     ]
    },
    {
     "name": "stderr",
     "output_type": "stream",
     "text": [
      "                                                                                \r"
     ]
    }
   ],
   "source": [
    "agg_green_df = spark.sql(\n",
    "\"\"\"\n",
    "SELECT \n",
    "    date_trunc('hour', pickup_datetime) AS hour, \n",
    "    PULocationID AS zone,\n",
    "\n",
    "    SUM(total_amount) AS amount,\n",
    "    COUNT(1) AS number_records\n",
    "FROM\n",
    "    df_view\n",
    "WHERE\n",
    "    pickup_datetime >= '2020-01-01 00:00:00' AND\n",
    "    service_type = 'green'\n",
    "GROUP BY\n",
    "    1, 2\n",
    "\"\"\"\n",
    ")\n",
    "green_df.show(5)"
   ]
  },
  {
   "cell_type": "code",
   "execution_count": 15,
   "id": "afd9991c",
   "metadata": {},
   "outputs": [
    {
     "data": {
      "text/plain": [
       "[Row(hour=datetime.datetime(2022, 3, 14, 11, 0), zone=75, amount=440.38000000000005, number_records=25),\n",
       " Row(hour=datetime.datetime(2022, 5, 12, 10, 0), zone=75, amount=381.19999999999993, number_records=20),\n",
       " Row(hour=datetime.datetime(2022, 5, 9, 19, 0), zone=92, amount=123.19999999999999, number_records=4),\n",
       " Row(hour=datetime.datetime(2022, 3, 2, 9, 0), zone=43, amount=109.55, number_records=5),\n",
       " Row(hour=datetime.datetime(2022, 5, 10, 18, 0), zone=74, amount=561.62, number_records=30),\n",
       " Row(hour=datetime.datetime(2022, 3, 2, 8, 0), zone=40, amount=34.05, number_records=1),\n",
       " Row(hour=datetime.datetime(2022, 3, 21, 20, 0), zone=7, amount=37.31, number_records=1),\n",
       " Row(hour=datetime.datetime(2022, 3, 14, 19, 0), zone=97, amount=59.02, number_records=4),\n",
       " Row(hour=datetime.datetime(2022, 5, 10, 10, 0), zone=244, amount=205.22, number_records=8),\n",
       " Row(hour=datetime.datetime(2022, 3, 28, 11, 0), zone=217, amount=48.5, number_records=1)]"
      ]
     },
     "execution_count": 15,
     "metadata": {},
     "output_type": "execute_result"
    }
   ],
   "source": [
    "agg_green_rdd = agg_green_df.rdd\n",
    "agg_green_rdd .take(10)"
   ]
  },
  {
   "cell_type": "code",
   "execution_count": 18,
   "id": "050a08ae",
   "metadata": {},
   "outputs": [
    {
     "data": {
      "text/plain": [
       "[Row(pickup_datetime=datetime.datetime(2022, 5, 1, 20, 57, 59), PULocationID=130, total_amount=35.76),\n",
       " Row(pickup_datetime=datetime.datetime(2022, 5, 16, 9, 54, 51), PULocationID=97, total_amount=20.0),\n",
       " Row(pickup_datetime=datetime.datetime(2022, 3, 16, 14, 54, 9), PULocationID=74, total_amount=11.8),\n",
       " Row(pickup_datetime=datetime.datetime(2022, 3, 23, 18, 12, 8), PULocationID=95, total_amount=8.3),\n",
       " Row(pickup_datetime=datetime.datetime(2022, 5, 24, 8, 56, 50), PULocationID=41, total_amount=24.55)]"
      ]
     },
     "execution_count": 18,
     "metadata": {},
     "output_type": "execute_result"
    }
   ],
   "source": [
    "green_rdd = green_df.rdd\n",
    "green_rdd.take(5)"
   ]
  },
  {
   "cell_type": "code",
   "execution_count": 19,
   "id": "32a41f31",
   "metadata": {},
   "outputs": [],
   "source": [
    "from datetime import datetime"
   ]
  },
  {
   "cell_type": "code",
   "execution_count": 20,
   "id": "4c5435f5",
   "metadata": {},
   "outputs": [],
   "source": [
    "start = datetime(year=2020, month=1, day=1)\n",
    "\n",
    "def filter_outliers(row):\n",
    "    return row.pickup_datetime >= start"
   ]
  },
  {
   "cell_type": "code",
   "execution_count": 27,
   "id": "dcb4e45c",
   "metadata": {},
   "outputs": [],
   "source": [
    "def mapping(row):\n",
    "    hour = row.pickup_datetime.replace(minute = 0, second = 0, microsecond = 0)\n",
    "    zone = row.PULocationID\n",
    "    amount = row.total_amount\n",
    "    count = 1\n",
    "    key = (hour, zone)\n",
    "    val = (amount, count)\n",
    "    return (key, val)"
   ]
  },
  {
   "cell_type": "code",
   "execution_count": 29,
   "id": "ab4eff11",
   "metadata": {},
   "outputs": [],
   "source": [
    "def reduction(l, r):\n",
    "    l_amt, l_cnt = l\n",
    "    r_amt, r_cnt = r\n",
    "    o_amt = l_amt + r_amt\n",
    "    o_cnt = l_cnt + r_cnt\n",
    "    o_val = (o_amt, o_cnt)\n",
    "    return o_val"
   ]
  },
  {
   "cell_type": "code",
   "execution_count": 31,
   "id": "62616b0b",
   "metadata": {},
   "outputs": [
    {
     "name": "stderr",
     "output_type": "stream",
     "text": [
      "                                                                                \r"
     ]
    },
    {
     "data": {
      "text/plain": [
       "[((datetime.datetime(2022, 5, 26, 9, 0), 129), (23.82, 2)),\n",
       " ((datetime.datetime(2022, 3, 18, 11, 0), 42), (141.52, 8)),\n",
       " ((datetime.datetime(2022, 3, 15, 8, 0), 75), (287.21000000000004, 17)),\n",
       " ((datetime.datetime(2022, 3, 19, 14, 0), 82), (97.92, 6)),\n",
       " ((datetime.datetime(2022, 3, 24, 14, 0), 116), (76.16000000000001, 3))]"
      ]
     },
     "execution_count": 31,
     "metadata": {},
     "output_type": "execute_result"
    }
   ],
   "source": [
    "# apply map-reduce\n",
    "green_rdd.filter(filter_outliers)\\\n",
    "         .map(mapping)\\\n",
    "         .reduceByKey(reduction)\\\n",
    "         .take(5)"
   ]
  },
  {
   "cell_type": "code",
   "execution_count": 44,
   "id": "e4a4a6aa",
   "metadata": {},
   "outputs": [
    {
     "name": "stderr",
     "output_type": "stream",
     "text": [
      "[Stage 34:======================================>                   (4 + 2) / 6]\r"
     ]
    }
   ],
   "source": [
    "duration_rdd = df.repartition(20)\\\n",
    "                 .select('VendorID', 'pickup_datetime',\n",
    "                         'PULocationID', 'DOLocationID', 'trip_distance')\\\n",
    "                 .rdd"
   ]
  },
  {
   "cell_type": "code",
   "execution_count": 45,
   "id": "57d4b866",
   "metadata": {},
   "outputs": [
    {
     "name": "stderr",
     "output_type": "stream",
     "text": [
      "                                                                                \r"
     ]
    },
    {
     "data": {
      "text/plain": [
       "[Row(VendorID=2, pickup_datetime=datetime.datetime(2022, 8, 11, 23, 41, 22), PULocationID=144, DOLocationID=24, trip_distance=6.48),\n",
       " Row(VendorID=2, pickup_datetime=datetime.datetime(2022, 5, 3, 6, 54, 39), PULocationID=141, DOLocationID=144, trip_distance=6.02),\n",
       " Row(VendorID=2, pickup_datetime=datetime.datetime(2022, 4, 29, 15, 25, 13), PULocationID=239, DOLocationID=238, trip_distance=0.98),\n",
       " Row(VendorID=1, pickup_datetime=datetime.datetime(2022, 8, 15, 12, 47, 34), PULocationID=161, DOLocationID=237, trip_distance=1.0),\n",
       " Row(VendorID=2, pickup_datetime=datetime.datetime(2022, 8, 21, 20, 11, 18), PULocationID=132, DOLocationID=90, trip_distance=17.41)]"
      ]
     },
     "execution_count": 45,
     "metadata": {},
     "output_type": "execute_result"
    }
   ],
   "source": [
    "duration_rdd.take(5)"
   ]
  },
  {
   "cell_type": "code",
   "execution_count": 50,
   "id": "91c94cd5",
   "metadata": {},
   "outputs": [],
   "source": [
    "def naive_model(distance):\n",
    "    return distance * 3"
   ]
  },
  {
   "cell_type": "code",
   "execution_count": 51,
   "id": "c311e621",
   "metadata": {},
   "outputs": [],
   "source": [
    "def apply_ML_in_batch(partition):\n",
    "    df = pd.DataFrame(partition, columns = ['VendorID', 'pickup_datetime','PULocationID',\n",
    "                                            'DOLocationID', 'trip_distance'])\n",
    "    df['predicted_duration'] = df['trip_distance'].apply(naive_model)\n",
    "    for row in df.itertuples():\n",
    "        yield row"
   ]
  },
  {
   "cell_type": "code",
   "execution_count": 54,
   "id": "efef9718",
   "metadata": {},
   "outputs": [
    {
     "name": "stderr",
     "output_type": "stream",
     "text": [
      "[Stage 50:>                                                         (0 + 1) / 1]\r"
     ]
    },
    {
     "name": "stdout",
     "output_type": "stream",
     "text": [
      "+-----+--------+---------------+------------+------------+-------------+------------------+\n",
      "|Index|VendorID|pickup_datetime|PULocationID|DOLocationID|trip_distance|predicted_duration|\n",
      "+-----+--------+---------------+------------+------------+-------------+------------------+\n",
      "|    0|       2|             {}|         144|          24|         6.48|             19.44|\n",
      "|    1|       2|             {}|         141|         144|         6.02|             18.06|\n",
      "|    2|       2|             {}|         239|         238|         0.98|              2.94|\n",
      "|    3|       1|             {}|         161|         237|          1.0|               3.0|\n",
      "|    4|       2|             {}|         132|          90|        17.41|52.230000000000004|\n",
      "+-----+--------+---------------+------------+------------+-------------+------------------+\n",
      "only showing top 5 rows\n",
      "\n"
     ]
    },
    {
     "name": "stderr",
     "output_type": "stream",
     "text": [
      "                                                                                \r"
     ]
    }
   ],
   "source": [
    "duration_rdd.mapPartitions(apply_ML_in_batch).toDF().show(5)"
   ]
  },
  {
   "cell_type": "code",
   "execution_count": null,
   "id": "30bf9c85",
   "metadata": {},
   "outputs": [],
   "source": []
  }
 ],
 "metadata": {
  "kernelspec": {
   "display_name": "Python 3 (ipykernel)",
   "language": "python",
   "name": "python3"
  },
  "language_info": {
   "codemirror_mode": {
    "name": "ipython",
    "version": 3
   },
   "file_extension": ".py",
   "mimetype": "text/x-python",
   "name": "python",
   "nbconvert_exporter": "python",
   "pygments_lexer": "ipython3",
   "version": "3.9.12"
  }
 },
 "nbformat": 4,
 "nbformat_minor": 5
}
