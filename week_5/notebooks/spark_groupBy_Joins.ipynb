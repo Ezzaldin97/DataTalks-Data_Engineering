{
 "cells": [
  {
   "cell_type": "code",
   "execution_count": 1,
   "id": "26cdb15c",
   "metadata": {},
   "outputs": [],
   "source": [
    "import pyspark\n",
    "from pyspark.sql import SparkSession\n",
    "from pyspark.sql import functions as F"
   ]
  },
  {
   "cell_type": "code",
   "execution_count": 2,
   "id": "03d43353",
   "metadata": {},
   "outputs": [
    {
     "name": "stderr",
     "output_type": "stream",
     "text": [
      "Setting default log level to \"WARN\".\n",
      "To adjust logging level use sc.setLogLevel(newLevel). For SparkR, use setLogLevel(newLevel).\n"
     ]
    },
    {
     "name": "stdout",
     "output_type": "stream",
     "text": [
      "22/11/28 20:56:43 WARN NativeCodeLoader: Unable to load native-hadoop library for your platform... using builtin-java classes where applicable\n"
     ]
    }
   ],
   "source": [
    "spark = SparkSession.builder.master('local[*]').appName('test').getOrCreate()"
   ]
  },
  {
   "cell_type": "code",
   "execution_count": 3,
   "id": "37e56eea",
   "metadata": {},
   "outputs": [
    {
     "name": "stderr",
     "output_type": "stream",
     "text": [
      "                                                                                \r"
     ]
    },
    {
     "name": "stdout",
     "output_type": "stream",
     "text": [
      "root\n",
      " |-- VendorID: long (nullable = true)\n",
      " |-- pickup_datetime: timestamp (nullable = true)\n",
      " |-- dropoff_datetime: timestamp (nullable = true)\n",
      " |-- store_and_fwd_flag: string (nullable = true)\n",
      " |-- RatecodeID: double (nullable = true)\n",
      " |-- PULocationID: long (nullable = true)\n",
      " |-- DOLocationID: long (nullable = true)\n",
      " |-- passenger_count: double (nullable = true)\n",
      " |-- trip_distance: double (nullable = true)\n",
      " |-- fare_amount: double (nullable = true)\n",
      " |-- extra: double (nullable = true)\n",
      " |-- mta_tax: double (nullable = true)\n",
      " |-- tip_amount: double (nullable = true)\n",
      " |-- tolls_amount: double (nullable = true)\n",
      " |-- improvement_surcharge: double (nullable = true)\n",
      " |-- total_amount: double (nullable = true)\n",
      " |-- payment_type: double (nullable = true)\n",
      " |-- congestion_surcharge: double (nullable = true)\n",
      " |-- service_type: string (nullable = true)\n",
      "\n"
     ]
    }
   ],
   "source": [
    "df = spark.read.parquet('/home/ezzaldin/data/taxi_tripdata/all_data_part.parquet')\n",
    "df.printSchema()"
   ]
  },
  {
   "cell_type": "code",
   "execution_count": 4,
   "id": "10ad7c5b",
   "metadata": {},
   "outputs": [],
   "source": [
    "df.createOrReplaceTempView('data_view')"
   ]
  },
  {
   "cell_type": "code",
   "execution_count": 17,
   "id": "140ca05f",
   "metadata": {},
   "outputs": [],
   "source": [
    "agg_green_df = spark.sql(\"\"\"\n",
    "SELECT \n",
    "    -- Reveneue grouping \n",
    "    PULocationID AS revenue_zone,\n",
    "    date_trunc('hour', pickup_datetime) AS revenue_hour, \n",
    "    -- Revenue calculation \n",
    "    SUM(total_amount) AS revenue_monthly_total_amount,\n",
    "    COUNT(1) AS number_records\n",
    "FROM\n",
    "    data_view\n",
    "WHERE service_type = 'green'\n",
    "GROUP BY\n",
    "    1, 2\n",
    "\"\"\")"
   ]
  },
  {
   "cell_type": "code",
   "execution_count": 6,
   "id": "5c8ac26b",
   "metadata": {},
   "outputs": [
    {
     "name": "stderr",
     "output_type": "stream",
     "text": [
      "[Stage 1:>                                                          (0 + 4) / 6]\r"
     ]
    },
    {
     "name": "stdout",
     "output_type": "stream",
     "text": [
      "+------------+-------------------+----------------------------+--------------+\n",
      "|revenue_zone|       revenue_hour|revenue_monthly_total_amount|number_records|\n",
      "+------------+-------------------+----------------------------+--------------+\n",
      "|         152|2022-03-28 20:00:00|                        18.5|             1|\n",
      "|          52|2022-03-15 13:00:00|                       67.18|             2|\n",
      "|         255|2022-05-29 21:00:00|          59.269999999999996|             3|\n",
      "|          41|2022-05-01 19:00:00|                       38.86|             3|\n",
      "|          95|2022-05-13 20:00:00|                      157.07|            11|\n",
      "|          75|2022-05-18 07:00:00|          353.21999999999997|            19|\n",
      "|          24|2022-05-09 08:00:00|                       42.71|             2|\n",
      "|         226|2022-03-06 18:00:00|                       84.17|             3|\n",
      "|          24|2022-05-01 16:00:00|                       78.15|             3|\n",
      "|          95|2022-03-26 03:00:00|                       22.79|             2|\n",
      "|          75|2022-03-21 12:00:00|          489.57000000000005|            33|\n",
      "|         263|2022-05-23 23:00:00|                       37.62|             1|\n",
      "|         129|2022-03-27 02:00:00|          55.480000000000004|             3|\n",
      "|         152|2022-03-22 15:00:00|                       41.04|             4|\n",
      "|          56|2022-05-15 19:00:00|                        21.8|             1|\n",
      "|          22|2022-05-04 11:00:00|                       26.25|             1|\n",
      "|         130|2022-05-22 18:00:00|          182.48000000000002|             4|\n",
      "|          97|2022-03-23 22:00:00|                       28.05|             1|\n",
      "|          55|2022-03-12 18:00:00|                        51.0|             1|\n",
      "|          95|2022-05-16 18:00:00|                      239.65|            15|\n",
      "+------------+-------------------+----------------------------+--------------+\n",
      "only showing top 20 rows\n",
      "\n"
     ]
    },
    {
     "name": "stderr",
     "output_type": "stream",
     "text": [
      "                                                                                \r"
     ]
    }
   ],
   "source": [
    "agg_green_df.show()"
   ]
  },
  {
   "cell_type": "code",
   "execution_count": 7,
   "id": "327ea1ae",
   "metadata": {},
   "outputs": [
    {
     "name": "stderr",
     "output_type": "stream",
     "text": [
      "                                                                                \r"
     ]
    }
   ],
   "source": [
    "agg_green_df.repartition(20)\\\n",
    "            .write\\\n",
    "            .parquet('/home/ezzaldin/data/taxi_tripdata/agg_revenue_green_taxi.parquet',\n",
    "                     mode = 'overwrite')"
   ]
  },
  {
   "cell_type": "code",
   "execution_count": 18,
   "id": "d0216f46",
   "metadata": {},
   "outputs": [],
   "source": [
    "agg_yellow_df = spark.sql(\"\"\"\n",
    "SELECT \n",
    "    -- Reveneue grouping \n",
    "    PULocationID AS revenue_zone,\n",
    "    date_trunc('hour', pickup_datetime) AS revenue_hour, \n",
    "    -- Revenue calculation \n",
    "    SUM(total_amount) AS revenue_monthly_total_amount,\n",
    "    COUNT(1) AS number_records\n",
    "FROM\n",
    "    data_view\n",
    "WHERE service_type = 'yellow'\n",
    "GROUP BY\n",
    "    1, 2\n",
    "\"\"\")"
   ]
  },
  {
   "cell_type": "code",
   "execution_count": 9,
   "id": "39a97cfb",
   "metadata": {},
   "outputs": [
    {
     "name": "stderr",
     "output_type": "stream",
     "text": [
      "                                                                                \r"
     ]
    }
   ],
   "source": [
    "agg_yellow_df.repartition(20)\\\n",
    "             .write\\\n",
    "             .parquet('/home/ezzaldin/data/taxi_tripdata/agg_revenue_yellow_taxi.parquet',\n",
    "                      mode = 'overwrite')"
   ]
  },
  {
   "cell_type": "code",
   "execution_count": 19,
   "id": "e91be6cf",
   "metadata": {},
   "outputs": [],
   "source": [
    "agg_green_df = agg_green_df.withColumnRenamed('revenue_monthly_total_amount', 'revenue_monthly_total_amount_green')\\\n",
    "                           .withColumnRenamed('number_records', 'number_records_green')\n",
    "agg_yellow_df = agg_yellow_df.withColumnRenamed('revenue_monthly_total_amount', 'revenue_monthly_total_amount_yellow')\\\n",
    "                            .withColumnRenamed('number_records', 'number_records_yellow')"
   ]
  },
  {
   "cell_type": "code",
   "execution_count": 20,
   "id": "ac475713",
   "metadata": {},
   "outputs": [],
   "source": [
    "merged_df = agg_green_df.join(agg_yellow_df,\n",
    "                              on = ['revenue_zone', 'revenue_hour'],\n",
    "                              how = 'outer')"
   ]
  },
  {
   "cell_type": "code",
   "execution_count": 21,
   "id": "8730ed4e",
   "metadata": {},
   "outputs": [
    {
     "name": "stderr",
     "output_type": "stream",
     "text": [
      "[Stage 20:================================================>         (5 + 1) / 6]\r"
     ]
    },
    {
     "name": "stdout",
     "output_type": "stream",
     "text": [
      "+------------+-------------------+----------------------------------+--------------------+-----------------------------------+---------------------+\n",
      "|revenue_zone|       revenue_hour|revenue_monthly_total_amount_green|number_records_green|revenue_monthly_total_amount_yellow|number_records_yellow|\n",
      "+------------+-------------------+----------------------------------+--------------------+-----------------------------------+---------------------+\n",
      "|           1|2022-01-01 13:00:00|                              null|                null|                             347.81|                    5|\n",
      "|           1|2022-01-01 18:00:00|                              null|                null|                              110.3|                    1|\n",
      "|           1|2022-01-02 05:00:00|                              null|                null|                             299.25|                    4|\n",
      "|           1|2022-01-02 11:00:00|                              null|                null|                               76.3|                    1|\n",
      "|           1|2022-01-02 12:00:00|                              null|                null|                             126.96|                    1|\n",
      "|           1|2022-01-02 14:00:00|                              null|                null|                              257.8|                    3|\n",
      "|           1|2022-01-05 15:00:00|                              null|                null|                             102.35|                    1|\n",
      "|           1|2022-01-05 16:00:00|                              null|                null|                             221.36|                    2|\n",
      "|           1|2022-01-06 14:00:00|                              null|                null|                              83.46|                    1|\n",
      "|           1|2022-01-08 13:00:00|                              null|                null|                 153.17000000000002|                    3|\n",
      "|           1|2022-01-08 15:00:00|                              null|                null|                             108.35|                    1|\n",
      "|           1|2022-01-08 16:00:00|                              null|                null|                               90.3|                    1|\n",
      "|           1|2022-01-08 18:00:00|                              null|                null|                 170.90000000000003|                    3|\n",
      "|           1|2022-01-09 14:00:00|                              null|                null|                 230.60000000000002|                    2|\n",
      "|           1|2022-01-09 19:00:00|                              null|                null|                             144.37|                    1|\n",
      "|           1|2022-01-10 15:00:00|                              null|                null|                             144.36|                    1|\n",
      "|           1|2022-01-11 20:00:00|                              null|                null|                             114.36|                    1|\n",
      "|           1|2022-01-14 09:00:00|                              null|                null|                             108.96|                    1|\n",
      "|           1|2022-01-14 19:00:00|                              null|                null|                              157.6|                    2|\n",
      "|           1|2022-01-14 22:00:00|                              null|                null|                              96.36|                    1|\n",
      "+------------+-------------------+----------------------------------+--------------------+-----------------------------------+---------------------+\n",
      "only showing top 20 rows\n",
      "\n"
     ]
    },
    {
     "name": "stderr",
     "output_type": "stream",
     "text": [
      "                                                                                \r"
     ]
    }
   ],
   "source": [
    "merged_df.show()"
   ]
  },
  {
   "cell_type": "code",
   "execution_count": 22,
   "id": "0c2eb7ab",
   "metadata": {},
   "outputs": [
    {
     "name": "stderr",
     "output_type": "stream",
     "text": [
      "                                                                                \r"
     ]
    }
   ],
   "source": [
    "merged_df.write.parquet('/home/ezzaldin/data/taxi_tripdata/merged.parquet',\n",
    "                        mode = 'overwrite')"
   ]
  },
  {
   "cell_type": "code",
   "execution_count": 25,
   "id": "66131f1f",
   "metadata": {},
   "outputs": [
    {
     "name": "stdout",
     "output_type": "stream",
     "text": [
      "+----------+-------------+--------------------+------------+\n",
      "|LocationID|      Borough|                Zone|service_zone|\n",
      "+----------+-------------+--------------------+------------+\n",
      "|         1|          EWR|      Newark Airport|         EWR|\n",
      "|         2|       Queens|         Jamaica Bay|   Boro Zone|\n",
      "|         3|        Bronx|Allerton/Pelham G...|   Boro Zone|\n",
      "|         4|    Manhattan|       Alphabet City| Yellow Zone|\n",
      "|         5|Staten Island|       Arden Heights|   Boro Zone|\n",
      "|         6|Staten Island|Arrochar/Fort Wad...|   Boro Zone|\n",
      "|         7|       Queens|             Astoria|   Boro Zone|\n",
      "|         8|       Queens|        Astoria Park|   Boro Zone|\n",
      "|         9|       Queens|          Auburndale|   Boro Zone|\n",
      "|        10|       Queens|        Baisley Park|   Boro Zone|\n",
      "|        11|     Brooklyn|          Bath Beach|   Boro Zone|\n",
      "|        12|    Manhattan|        Battery Park| Yellow Zone|\n",
      "|        13|    Manhattan|   Battery Park City| Yellow Zone|\n",
      "|        14|     Brooklyn|           Bay Ridge|   Boro Zone|\n",
      "|        15|       Queens|Bay Terrace/Fort ...|   Boro Zone|\n",
      "|        16|       Queens|             Bayside|   Boro Zone|\n",
      "|        17|     Brooklyn|             Bedford|   Boro Zone|\n",
      "|        18|        Bronx|        Bedford Park|   Boro Zone|\n",
      "|        19|       Queens|           Bellerose|   Boro Zone|\n",
      "|        20|        Bronx|             Belmont|   Boro Zone|\n",
      "+----------+-------------+--------------------+------------+\n",
      "only showing top 20 rows\n",
      "\n"
     ]
    }
   ],
   "source": [
    "zones_df = spark.read.parquet('/home/ezzaldin/data/zones/')\n",
    "zones_df.show()"
   ]
  },
  {
   "cell_type": "code",
   "execution_count": 27,
   "id": "32635ae4",
   "metadata": {},
   "outputs": [
    {
     "name": "stderr",
     "output_type": "stream",
     "text": [
      "[Stage 33:======================================>                   (4 + 2) / 6]\r"
     ]
    },
    {
     "name": "stdout",
     "output_type": "stream",
     "text": [
      "+------------+-------------------+----------------------------------+-----------------------------------+\n",
      "|revenue_zone|       revenue_hour|revenue_monthly_total_amount_green|revenue_monthly_total_amount_yellow|\n",
      "+------------+-------------------+----------------------------------+-----------------------------------+\n",
      "|           1|2022-01-01 13:00:00|                              null|                             347.81|\n",
      "|           1|2022-01-01 18:00:00|                              null|                              110.3|\n",
      "|           1|2022-01-02 05:00:00|                              null|                             299.25|\n",
      "|           1|2022-01-02 11:00:00|                              null|                               76.3|\n",
      "|           1|2022-01-02 12:00:00|                              null|                             126.96|\n",
      "|           1|2022-01-02 14:00:00|                              null|                              257.8|\n",
      "|           1|2022-01-05 15:00:00|                              null|                             102.35|\n",
      "|           1|2022-01-05 16:00:00|                              null|                             221.36|\n",
      "|           1|2022-01-06 14:00:00|                              null|                              83.46|\n",
      "|           1|2022-01-08 13:00:00|                              null|                 153.17000000000002|\n",
      "|           1|2022-01-08 15:00:00|                              null|                             108.35|\n",
      "|           1|2022-01-08 16:00:00|                              null|                               90.3|\n",
      "|           1|2022-01-08 18:00:00|                              null|                 170.90000000000003|\n",
      "|           1|2022-01-09 14:00:00|                              null|                 230.60000000000002|\n",
      "|           1|2022-01-09 19:00:00|                              null|                             144.37|\n",
      "|           1|2022-01-10 15:00:00|                              null|                             144.36|\n",
      "|           1|2022-01-11 20:00:00|                              null|                             114.36|\n",
      "|           1|2022-01-14 09:00:00|                              null|                             108.96|\n",
      "|           1|2022-01-14 19:00:00|                              null|                              157.6|\n",
      "|           1|2022-01-14 22:00:00|                              null|                              96.36|\n",
      "+------------+-------------------+----------------------------------+-----------------------------------+\n",
      "only showing top 20 rows\n",
      "\n"
     ]
    },
    {
     "name": "stderr",
     "output_type": "stream",
     "text": [
      "                                                                                \r"
     ]
    }
   ],
   "source": [
    "final_res_df = merged_df.join(zones_df,\n",
    "                              merged_df.revenue_zone == zones_df.LocationID)\\\n",
    "                        .select('revenue_zone',\n",
    "                                'revenue_hour',\n",
    "                                'revenue_monthly_total_amount_green',\n",
    "                                'revenue_monthly_total_amount_yellow')\n",
    "final_res_df.show()"
   ]
  },
  {
   "cell_type": "code",
   "execution_count": null,
   "id": "4eb90b92",
   "metadata": {},
   "outputs": [],
   "source": []
  }
 ],
 "metadata": {
  "kernelspec": {
   "display_name": "Python 3 (ipykernel)",
   "language": "python",
   "name": "python3"
  },
  "language_info": {
   "codemirror_mode": {
    "name": "ipython",
    "version": 3
   },
   "file_extension": ".py",
   "mimetype": "text/x-python",
   "name": "python",
   "nbconvert_exporter": "python",
   "pygments_lexer": "ipython3",
   "version": "3.9.12"
  }
 },
 "nbformat": 4,
 "nbformat_minor": 5
}
