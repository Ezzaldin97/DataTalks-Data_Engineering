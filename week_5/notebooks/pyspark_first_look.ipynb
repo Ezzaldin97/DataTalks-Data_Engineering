{
 "cells": [
  {
   "cell_type": "code",
   "execution_count": 1,
   "id": "7b349b91",
   "metadata": {},
   "outputs": [],
   "source": [
    "import pyspark\n",
    "from pyspark.sql import SparkSession"
   ]
  },
  {
   "cell_type": "code",
   "execution_count": 2,
   "id": "f71fbaf5",
   "metadata": {},
   "outputs": [
    {
     "name": "stderr",
     "output_type": "stream",
     "text": [
      "Setting default log level to \"WARN\".\n",
      "To adjust logging level use sc.setLogLevel(newLevel). For SparkR, use setLogLevel(newLevel).\n"
     ]
    },
    {
     "name": "stdout",
     "output_type": "stream",
     "text": [
      "22/11/26 11:21:15 WARN NativeCodeLoader: Unable to load native-hadoop library for your platform... using builtin-java classes where applicable\n"
     ]
    }
   ],
   "source": [
    "spark = SparkSession.builder.master('local[*]').appName('test').getOrCreate()"
   ]
  },
  {
   "cell_type": "code",
   "execution_count": 3,
   "id": "fb6c24f7",
   "metadata": {},
   "outputs": [
    {
     "name": "stderr",
     "output_type": "stream",
     "text": [
      "                                                                                \r"
     ]
    },
    {
     "data": {
      "text/plain": [
       "Row(hvfhs_license_num='HV0003', dispatching_base_num='B03404', originating_base_num='B03404', request_datetime=datetime.datetime(2022, 1, 1, 0, 5, 31), on_scene_datetime=datetime.datetime(2022, 1, 1, 0, 5, 40), pickup_datetime=datetime.datetime(2022, 1, 1, 0, 7, 24), dropoff_datetime=datetime.datetime(2022, 1, 1, 0, 18, 28), PULocationID=170, DOLocationID=161, trip_miles=1.18, trip_time=664, base_passenger_fare=24.9, tolls=0.0, bcf=0.75, sales_tax=2.21, congestion_surcharge=2.75, airport_fee=0.0, tips=0.0, driver_pay=23.03, shared_request_flag='N', shared_match_flag='N', access_a_ride_flag=' ', wav_request_flag='N', wav_match_flag='N')"
      ]
     },
     "execution_count": 3,
     "metadata": {},
     "output_type": "execute_result"
    }
   ],
   "source": [
    "df = spark.read.option('header', 'true').parquet('../data/fhvhv_tripdata_2022-01.parquet')\n",
    "#df.show()\n",
    "df.head()"
   ]
  },
  {
   "cell_type": "code",
   "execution_count": 4,
   "id": "3d76b2f7",
   "metadata": {},
   "outputs": [
    {
     "data": {
      "text/plain": [
       "StructType([StructField('hvfhs_license_num', StringType(), True), StructField('dispatching_base_num', StringType(), True), StructField('originating_base_num', StringType(), True), StructField('request_datetime', TimestampType(), True), StructField('on_scene_datetime', TimestampType(), True), StructField('pickup_datetime', TimestampType(), True), StructField('dropoff_datetime', TimestampType(), True), StructField('PULocationID', LongType(), True), StructField('DOLocationID', LongType(), True), StructField('trip_miles', DoubleType(), True), StructField('trip_time', LongType(), True), StructField('base_passenger_fare', DoubleType(), True), StructField('tolls', DoubleType(), True), StructField('bcf', DoubleType(), True), StructField('sales_tax', DoubleType(), True), StructField('congestion_surcharge', DoubleType(), True), StructField('airport_fee', DoubleType(), True), StructField('tips', DoubleType(), True), StructField('driver_pay', DoubleType(), True), StructField('shared_request_flag', StringType(), True), StructField('shared_match_flag', StringType(), True), StructField('access_a_ride_flag', StringType(), True), StructField('wav_request_flag', StringType(), True), StructField('wav_match_flag', StringType(), True)])"
      ]
     },
     "execution_count": 4,
     "metadata": {},
     "output_type": "execute_result"
    }
   ],
   "source": [
    "df.schema"
   ]
  },
  {
   "cell_type": "code",
   "execution_count": 5,
   "id": "ceddb2b7",
   "metadata": {},
   "outputs": [
    {
     "data": {
      "text/plain": [
       "DataFrame[hvfhs_license_num: string, dispatching_base_num: string, originating_base_num: string, request_datetime: timestamp, on_scene_datetime: timestamp, pickup_datetime: timestamp, dropoff_datetime: timestamp, PULocationID: bigint, DOLocationID: bigint, trip_miles: double, trip_time: bigint, base_passenger_fare: double, tolls: double, bcf: double, sales_tax: double, congestion_surcharge: double, airport_fee: double, tips: double, driver_pay: double, shared_request_flag: string, shared_match_flag: string, access_a_ride_flag: string, wav_request_flag: string, wav_match_flag: string]"
      ]
     },
     "execution_count": 5,
     "metadata": {},
     "output_type": "execute_result"
    }
   ],
   "source": [
    "#spark.createDataFrame(pandas_df) --> to create spark dataframe\n",
    "'''\n",
    "define a schema in spark\n",
    "from pyspark.sql import types\n",
    "schema = types.StructType([\n",
    "    types.StructField('hvfhs_license_num', types.StringType(), True),\n",
    "    types.StructField('dispatching_base_num', types.StringType(), True),\n",
    "    types.StructField('pickup_datetime', types.TimestampType(), True),\n",
    "    types.StructField('dropoff_datetime', types.TimestampType(), True),\n",
    "    types.StructField('PULocationID', types.IntegerType(), True),\n",
    "    types.StructField('DOLocationID', types.IntegerType(), True),\n",
    "    types.StructField('SR_Flag', types.StringType(), True)\n",
    "])\n",
    "'''\n",
    "df.repartition(24)"
   ]
  },
  {
   "cell_type": "code",
   "execution_count": 10,
   "id": "32c64082",
   "metadata": {},
   "outputs": [
    {
     "name": "stderr",
     "output_type": "stream",
     "text": [
      "                                                                                \r"
     ]
    }
   ],
   "source": [
    "df.write.parquet('fhvhv_tripdata_2022-01_part')"
   ]
  },
  {
   "cell_type": "code",
   "execution_count": 6,
   "id": "160f4d15",
   "metadata": {},
   "outputs": [],
   "source": [
    "df = spark.read.parquet('../data/fhvhv_tripdata_2022-01_part')"
   ]
  },
  {
   "cell_type": "code",
   "execution_count": 8,
   "id": "22eb25ea",
   "metadata": {},
   "outputs": [
    {
     "name": "stdout",
     "output_type": "stream",
     "text": [
      "root\n",
      " |-- hvfhs_license_num: string (nullable = true)\n",
      " |-- dispatching_base_num: string (nullable = true)\n",
      " |-- originating_base_num: string (nullable = true)\n",
      " |-- request_datetime: timestamp (nullable = true)\n",
      " |-- on_scene_datetime: timestamp (nullable = true)\n",
      " |-- pickup_datetime: timestamp (nullable = true)\n",
      " |-- dropoff_datetime: timestamp (nullable = true)\n",
      " |-- PULocationID: long (nullable = true)\n",
      " |-- DOLocationID: long (nullable = true)\n",
      " |-- trip_miles: double (nullable = true)\n",
      " |-- trip_time: long (nullable = true)\n",
      " |-- base_passenger_fare: double (nullable = true)\n",
      " |-- tolls: double (nullable = true)\n",
      " |-- bcf: double (nullable = true)\n",
      " |-- sales_tax: double (nullable = true)\n",
      " |-- congestion_surcharge: double (nullable = true)\n",
      " |-- airport_fee: double (nullable = true)\n",
      " |-- tips: double (nullable = true)\n",
      " |-- driver_pay: double (nullable = true)\n",
      " |-- shared_request_flag: string (nullable = true)\n",
      " |-- shared_match_flag: string (nullable = true)\n",
      " |-- access_a_ride_flag: string (nullable = true)\n",
      " |-- wav_request_flag: string (nullable = true)\n",
      " |-- wav_match_flag: string (nullable = true)\n",
      "\n"
     ]
    }
   ],
   "source": [
    "df.printSchema()"
   ]
  },
  {
   "cell_type": "code",
   "execution_count": 12,
   "id": "97e62264",
   "metadata": {},
   "outputs": [
    {
     "name": "stdout",
     "output_type": "stream",
     "text": [
      "+-------------------+-------------------+------------+------------+\n",
      "|    pickup_datetime|   dropoff_datetime|PULocationID|DOLocationID|\n",
      "+-------------------+-------------------+------------+------------+\n",
      "|2022-01-01 00:07:24|2022-01-01 00:18:28|         170|         161|\n",
      "|2022-01-01 00:22:32|2022-01-01 00:30:12|         237|         161|\n",
      "|2022-01-01 00:57:37|2022-01-01 01:07:32|         237|         161|\n",
      "|2022-01-01 00:18:02|2022-01-01 00:23:05|         262|         229|\n",
      "|2022-01-01 00:28:01|2022-01-01 00:35:42|         229|         141|\n",
      "|2022-01-01 00:38:50|2022-01-01 00:51:32|         263|          79|\n",
      "|2022-01-01 00:53:25|2022-01-01 01:08:56|         113|         140|\n",
      "|2022-01-01 00:08:58|2022-01-01 00:23:01|         151|          75|\n",
      "|2022-01-01 00:32:25|2022-01-01 00:44:15|         263|         229|\n",
      "|2022-01-01 00:50:23|2022-01-01 01:15:30|         237|         169|\n",
      "|2022-01-01 00:17:02|2022-01-01 00:40:09|         261|         223|\n",
      "|2022-01-01 00:43:20|2022-01-01 00:47:31|         223|         223|\n",
      "|2022-01-01 00:52:29|2022-01-01 01:01:48|         223|           7|\n",
      "|2022-01-01 00:12:03|2022-01-01 00:35:07|         246|         243|\n",
      "|2022-01-01 00:58:26|2022-01-01 01:07:23|         243|         127|\n",
      "|2022-01-01 00:28:15|2022-01-01 00:38:52|         223|         179|\n",
      "|2022-01-01 00:45:55|2022-01-01 00:53:47|         179|           7|\n",
      "|2022-01-01 00:55:30|2022-01-01 01:03:26|           7|          82|\n",
      "|2022-01-01 00:30:45|2022-01-01 00:43:22|         165|         165|\n",
      "|2022-01-01 00:47:30|2022-01-01 01:06:49|         165|          72|\n",
      "+-------------------+-------------------+------------+------------+\n",
      "only showing top 20 rows\n",
      "\n"
     ]
    }
   ],
   "source": [
    "# selecting columns and filter for specific records....\n",
    "df.select('pickup_datetime', 'dropoff_datetime', 'PULocationID', 'DOLocationID')\\\n",
    "  .filter(df['hvfhs_license_num'] == 'HV0003').show()"
   ]
  },
  {
   "cell_type": "code",
   "execution_count": 14,
   "id": "a7829e30",
   "metadata": {},
   "outputs": [],
   "source": [
    "from pyspark.sql import functions as F"
   ]
  },
  {
   "cell_type": "code",
   "execution_count": 20,
   "id": "0042298e",
   "metadata": {},
   "outputs": [
    {
     "name": "stdout",
     "output_type": "stream",
     "text": [
      "+-------------------+-------------------+------------+------------+-----------+\n",
      "|    pickup_datetime|   dropoff_datetime|PULocationID|DOLocationID|pickup_date|\n",
      "+-------------------+-------------------+------------+------------+-----------+\n",
      "|2022-01-01 00:07:24|2022-01-01 00:18:28|         170|         161| 2022-01-01|\n",
      "|2022-01-01 00:22:32|2022-01-01 00:30:12|         237|         161| 2022-01-01|\n",
      "|2022-01-01 00:57:37|2022-01-01 01:07:32|         237|         161| 2022-01-01|\n",
      "|2022-01-01 00:18:02|2022-01-01 00:23:05|         262|         229| 2022-01-01|\n",
      "|2022-01-01 00:28:01|2022-01-01 00:35:42|         229|         141| 2022-01-01|\n",
      "+-------------------+-------------------+------------+------------+-----------+\n",
      "only showing top 5 rows\n",
      "\n"
     ]
    }
   ],
   "source": [
    "# F.to_date() : convert given col to date...\n",
    "df.select('pickup_datetime', 'dropoff_datetime', 'PULocationID', 'DOLocationID')\\\n",
    "  .withColumn('pickup_date', F.to_date(df['pickup_datetime'])).show(5)"
   ]
  },
  {
   "cell_type": "code",
   "execution_count": 25,
   "id": "03be9a83",
   "metadata": {},
   "outputs": [
    {
     "name": "stdout",
     "output_type": "stream",
     "text": [
      "+-------------------+-------------------+------------+------------+---------+-------------------+\n",
      "|    pickup_datetime|   dropoff_datetime|PULocationID|DOLocationID|trip_time|       trip_time_hr|\n",
      "+-------------------+-------------------+------------+------------+---------+-------------------+\n",
      "|2022-01-01 00:07:24|2022-01-01 00:18:28|         170|         161|      664|0.18444444444444444|\n",
      "|2022-01-01 00:22:32|2022-01-01 00:30:12|         237|         161|      460|0.12777777777777777|\n",
      "|2022-01-01 00:57:37|2022-01-01 01:07:32|         237|         161|      595|0.16527777777777777|\n",
      "|2022-01-01 00:18:02|2022-01-01 00:23:05|         262|         229|      303|0.08416666666666667|\n",
      "|2022-01-01 00:28:01|2022-01-01 00:35:42|         229|         141|      461|0.12805555555555556|\n",
      "+-------------------+-------------------+------------+------------+---------+-------------------+\n",
      "only showing top 5 rows\n",
      "\n"
     ]
    }
   ],
   "source": [
    "# more complex function that u can't create in sql\n",
    "def calc_time_hr(t):\n",
    "    return t / 3600\n",
    "df.select('pickup_datetime', 'dropoff_datetime', 'PULocationID', 'DOLocationID', 'trip_time')\\\n",
    "  .withColumn('trip_time_hr', calc_time_hr(df['trip_time']))\\\n",
    "  .show(5)"
   ]
  },
  {
   "cell_type": "code",
   "execution_count": null,
   "id": "5e50f1c9",
   "metadata": {},
   "outputs": [],
   "source": []
  }
 ],
 "metadata": {
  "kernelspec": {
   "display_name": "Python 3 (ipykernel)",
   "language": "python",
   "name": "python3"
  },
  "language_info": {
   "codemirror_mode": {
    "name": "ipython",
    "version": 3
   },
   "file_extension": ".py",
   "mimetype": "text/x-python",
   "name": "python",
   "nbconvert_exporter": "python",
   "pygments_lexer": "ipython3",
   "version": "3.9.12"
  }
 },
 "nbformat": 4,
 "nbformat_minor": 5
}
