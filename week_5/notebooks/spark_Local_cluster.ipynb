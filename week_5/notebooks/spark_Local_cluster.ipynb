{
 "cells": [
  {
   "cell_type": "code",
   "execution_count": 1,
   "id": "dfc7f4b7",
   "metadata": {},
   "outputs": [],
   "source": [
    "import pyspark\n",
    "from pyspark.sql import SparkSession\n",
    "from pyspark.sql import functions as F\n",
    "from pyspark.conf import SparkConf\n",
    "from pyspark.context import SparkContext"
   ]
  },
  {
   "cell_type": "code",
   "execution_count": 2,
   "id": "690bcbe0",
   "metadata": {},
   "outputs": [
    {
     "name": "stderr",
     "output_type": "stream",
     "text": [
      "Setting default log level to \"WARN\".\n",
      "To adjust logging level use sc.setLogLevel(newLevel). For SparkR, use setLogLevel(newLevel).\n"
     ]
    },
    {
     "name": "stdout",
     "output_type": "stream",
     "text": [
      "22/12/02 00:24:00 WARN NativeCodeLoader: Unable to load native-hadoop library for your platform... using builtin-java classes where applicable\n"
     ]
    }
   ],
   "source": [
    "spark = SparkSession.builder.master('spark://de-zoomcamp.europe-north1-a.c.strong-keyword-364715.internal:7077')\\\n",
    "                    .appName('test')\\\n",
    "                    .getOrCreate()"
   ]
  },
  {
   "cell_type": "code",
   "execution_count": 4,
   "id": "2bb95269",
   "metadata": {},
   "outputs": [
    {
     "data": {
      "text/html": [
       "\n",
       "            <div>\n",
       "                <p><b>SparkSession - in-memory</b></p>\n",
       "                \n",
       "        <div>\n",
       "            <p><b>SparkContext</b></p>\n",
       "\n",
       "            <p><a href=\"http://de-zoomcamp.europe-north1-a.c.strong-keyword-364715.internal:4040\">Spark UI</a></p>\n",
       "\n",
       "            <dl>\n",
       "              <dt>Version</dt>\n",
       "                <dd><code>v3.3.1</code></dd>\n",
       "              <dt>Master</dt>\n",
       "                <dd><code>spark://de-zoomcamp.europe-north1-a.c.strong-keyword-364715.internal:7077</code></dd>\n",
       "              <dt>AppName</dt>\n",
       "                <dd><code>test</code></dd>\n",
       "            </dl>\n",
       "        </div>\n",
       "        \n",
       "            </div>\n",
       "        "
      ],
      "text/plain": [
       "<pyspark.sql.session.SparkSession at 0x7f25bc715580>"
      ]
     },
     "execution_count": 4,
     "metadata": {},
     "output_type": "execute_result"
    }
   ],
   "source": [
    "spark"
   ]
  },
  {
   "cell_type": "code",
   "execution_count": 6,
   "id": "76f37aa6",
   "metadata": {},
   "outputs": [
    {
     "name": "stdout",
     "output_type": "stream",
     "text": [
      "+----------+-------------+--------------------+------------+\n",
      "|LocationID|      Borough|                Zone|service_zone|\n",
      "+----------+-------------+--------------------+------------+\n",
      "|         1|          EWR|      Newark Airport|         EWR|\n",
      "|         2|       Queens|         Jamaica Bay|   Boro Zone|\n",
      "|         3|        Bronx|Allerton/Pelham G...|   Boro Zone|\n",
      "|         4|    Manhattan|       Alphabet City| Yellow Zone|\n",
      "|         5|Staten Island|       Arden Heights|   Boro Zone|\n",
      "+----------+-------------+--------------------+------------+\n",
      "only showing top 5 rows\n",
      "\n"
     ]
    }
   ],
   "source": [
    "zones_df = spark.read.parquet('/home/ezzaldin/data/zones')\n",
    "zones_df.show(5)"
   ]
  },
  {
   "cell_type": "code",
   "execution_count": 7,
   "id": "9518cf97",
   "metadata": {},
   "outputs": [],
   "source": [
    "locations_df = spark.read.parquet('/home/ezzaldin/data/taxi_tripdata/all_data_part.parquet')\\\n",
    "                    .select('PULocationID', 'DOLocationID', 'trip_distance')"
   ]
  },
  {
   "cell_type": "code",
   "execution_count": 9,
   "id": "9825c931",
   "metadata": {},
   "outputs": [
    {
     "name": "stdout",
     "output_type": "stream",
     "text": [
      "+------------+------------+-------------+\n",
      "|PULocationID|DOLocationID|trip_distance|\n",
      "+------------+------------+-------------+\n",
      "|         130|         179|         10.1|\n",
      "|          97|         225|          0.0|\n",
      "|          74|          75|         1.69|\n",
      "|          95|          95|         0.63|\n",
      "|          41|         145|          4.9|\n",
      "+------------+------------+-------------+\n",
      "only showing top 5 rows\n",
      "\n"
     ]
    }
   ],
   "source": [
    "locations_df.show(5)"
   ]
  },
  {
   "cell_type": "code",
   "execution_count": 8,
   "id": "038bbfb9",
   "metadata": {},
   "outputs": [],
   "source": [
    "zones_df.createOrReplaceTempView('zones')\n",
    "locations_df.createOrReplaceTempView('locations')"
   ]
  },
  {
   "cell_type": "code",
   "execution_count": 10,
   "id": "bb914937",
   "metadata": {},
   "outputs": [],
   "source": [
    "locations_zone_distance_df = spark.sql(\"\"\"\n",
    "SELECT l.PULocationID as pickup_location,\n",
    "       z1.Zone as pickup_zone,\n",
    "       l.DOLocationID as dropoff_location,\n",
    "       z2.Zone as dropoff_zone,\n",
    "       l.trip_distance\n",
    "FROM locations as l\n",
    "INNER JOIN zones AS z1 ON z1.LocationID = l.PULocationID\n",
    "INNER JOIN zones AS z2 ON z2.LocationID = l.DOLocationID\n",
    "\"\"\") "
   ]
  },
  {
   "cell_type": "code",
   "execution_count": 11,
   "id": "ccb91a4f",
   "metadata": {},
   "outputs": [
    {
     "name": "stdout",
     "output_type": "stream",
     "text": [
      "+---------------+--------------------+----------------+--------------------+-------------+\n",
      "|pickup_location|         pickup_zone|dropoff_location|        dropoff_zone|trip_distance|\n",
      "+---------------+--------------------+----------------+--------------------+-------------+\n",
      "|            130|             Jamaica|             179|         Old Astoria|         10.1|\n",
      "|             97|         Fort Greene|             225|  Stuyvesant Heights|          0.0|\n",
      "|             74|   East Harlem North|              75|   East Harlem South|         1.69|\n",
      "|             95|        Forest Hills|              95|        Forest Hills|         0.63|\n",
      "|             41|      Central Harlem|             145|Long Island City/...|          4.9|\n",
      "|            129|     Jackson Heights|             193|Queensbridge/Rave...|         2.83|\n",
      "|             42|Central Harlem North|             238|Upper West Side N...|         2.54|\n",
      "|             95|        Forest Hills|             135|   Kew Gardens Hills|         2.03|\n",
      "|             75|   East Harlem South|              42|Central Harlem North|          1.6|\n",
      "|            166| Morningside Heights|             244|Washington Height...|         2.91|\n",
      "+---------------+--------------------+----------------+--------------------+-------------+\n",
      "only showing top 10 rows\n",
      "\n"
     ]
    }
   ],
   "source": [
    "locations_zone_distance_df.show(10)"
   ]
  },
  {
   "cell_type": "code",
   "execution_count": 14,
   "id": "0f7775ad",
   "metadata": {},
   "outputs": [
    {
     "name": "stderr",
     "output_type": "stream",
     "text": [
      "                                                                                \r"
     ]
    }
   ],
   "source": [
    "locations_zone_distance_df.repartition(8)\\\n",
    "                          .write.parquet('/home/ezzaldin/data/taxi_tripdata/zones_trip_distance_loc_based.parquet')"
   ]
  },
  {
   "cell_type": "code",
   "execution_count": null,
   "id": "5cb06709",
   "metadata": {},
   "outputs": [],
   "source": []
  }
 ],
 "metadata": {
  "kernelspec": {
   "display_name": "Python 3 (ipykernel)",
   "language": "python",
   "name": "python3"
  },
  "language_info": {
   "codemirror_mode": {
    "name": "ipython",
    "version": 3
   },
   "file_extension": ".py",
   "mimetype": "text/x-python",
   "name": "python",
   "nbconvert_exporter": "python",
   "pygments_lexer": "ipython3",
   "version": "3.9.12"
  }
 },
 "nbformat": 4,
 "nbformat_minor": 5
}
