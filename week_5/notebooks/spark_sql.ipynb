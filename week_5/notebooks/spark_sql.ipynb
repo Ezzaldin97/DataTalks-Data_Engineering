{
 "cells": [
  {
   "cell_type": "code",
   "execution_count": 1,
   "id": "75fc6699",
   "metadata": {},
   "outputs": [],
   "source": [
    "import pyspark\n",
    "from pyspark.sql import SparkSession\n",
    "from pyspark.sql import functions as F"
   ]
  },
  {
   "cell_type": "code",
   "execution_count": 2,
   "id": "d91b6023",
   "metadata": {},
   "outputs": [
    {
     "name": "stderr",
     "output_type": "stream",
     "text": [
      "Setting default log level to \"WARN\".\n",
      "To adjust logging level use sc.setLogLevel(newLevel). For SparkR, use setLogLevel(newLevel).\n"
     ]
    },
    {
     "name": "stdout",
     "output_type": "stream",
     "text": [
      "22/11/26 21:52:59 WARN NativeCodeLoader: Unable to load native-hadoop library for your platform... using builtin-java classes where applicable\n"
     ]
    }
   ],
   "source": [
    "spark = SparkSession.builder.master('local[*]')\\\n",
    "        .appName('test')\\\n",
    "        .getOrCreate()"
   ]
  },
  {
   "cell_type": "code",
   "execution_count": 3,
   "id": "2c167c3e",
   "metadata": {},
   "outputs": [
    {
     "name": "stderr",
     "output_type": "stream",
     "text": [
      "                                                                                \r"
     ]
    },
    {
     "name": "stdout",
     "output_type": "stream",
     "text": [
      "root\n",
      " |-- VendorID: long (nullable = true)\n",
      " |-- pickup_datetime: timestamp (nullable = true)\n",
      " |-- dropoff_datetime: timestamp (nullable = true)\n",
      " |-- store_and_fwd_flag: string (nullable = true)\n",
      " |-- RatecodeID: double (nullable = true)\n",
      " |-- PULocationID: long (nullable = true)\n",
      " |-- DOLocationID: long (nullable = true)\n",
      " |-- passenger_count: double (nullable = true)\n",
      " |-- trip_distance: double (nullable = true)\n",
      " |-- fare_amount: double (nullable = true)\n",
      " |-- extra: double (nullable = true)\n",
      " |-- mta_tax: double (nullable = true)\n",
      " |-- tip_amount: double (nullable = true)\n",
      " |-- tolls_amount: double (nullable = true)\n",
      " |-- improvement_surcharge: double (nullable = true)\n",
      " |-- total_amount: double (nullable = true)\n",
      " |-- payment_type: double (nullable = true)\n",
      " |-- congestion_surcharge: double (nullable = true)\n",
      " |-- service_type: string (nullable = true)\n",
      "\n"
     ]
    }
   ],
   "source": [
    "df = spark.read.parquet('../data/taxi_tripdata/all_data_part.parquet')\n",
    "df.printSchema()"
   ]
  },
  {
   "cell_type": "code",
   "execution_count": 4,
   "id": "b8a55ac9",
   "metadata": {},
   "outputs": [
    {
     "name": "stderr",
     "output_type": "stream",
     "text": [
      "/home/ezzaldin/spark/spark-3.3.1-bin-hadoop3/python/pyspark/sql/dataframe.py:229: FutureWarning: Deprecated in 2.0, use createOrReplaceTempView instead.\n",
      "  warnings.warn(\"Deprecated in 2.0, use createOrReplaceTempView instead.\", FutureWarning)\n"
     ]
    }
   ],
   "source": [
    "df.registerTempTable('trips_data_2022')"
   ]
  },
  {
   "cell_type": "code",
   "execution_count": 5,
   "id": "0d1ac6bc",
   "metadata": {},
   "outputs": [],
   "source": [
    "df.createOrReplaceTempView('trips_data_2022_view')"
   ]
  },
  {
   "cell_type": "code",
   "execution_count": 8,
   "id": "89a3d475",
   "metadata": {},
   "outputs": [
    {
     "name": "stderr",
     "output_type": "stream",
     "text": [
      "[Stage 1:=======================================>                   (4 + 2) / 6]\r"
     ]
    },
    {
     "name": "stdout",
     "output_type": "stream",
     "text": [
      "+------------+------------------+\n",
      "|service_type|avg(trip_distance)|\n",
      "+------------+------------------+\n",
      "|       green| 87.72377683999694|\n",
      "|      yellow|5.9003856363908795|\n",
      "+------------+------------------+\n",
      "\n"
     ]
    },
    {
     "name": "stderr",
     "output_type": "stream",
     "text": [
      "                                                                                \r"
     ]
    }
   ],
   "source": [
    "spark.sql(\"\"\"\n",
    "          SELECT service_type, \n",
    "                 AVG(trip_distance)\n",
    "          FROM trips_data_2022_view\n",
    "          GROUP BY 1\n",
    "          \"\"\")\\\n",
    "     .show()"
   ]
  },
  {
   "cell_type": "code",
   "execution_count": 10,
   "id": "a38b5bf1",
   "metadata": {},
   "outputs": [
    {
     "name": "stderr",
     "output_type": "stream",
     "text": [
      "[Stage 4:=======================================>                   (4 + 2) / 6]\r"
     ]
    },
    {
     "name": "stdout",
     "output_type": "stream",
     "text": [
      "+------------+-------------------+------------+--------------------+---------------------+-----------------------+--------------------------+----------------------------+-------------------------------------+----------------------------+------------------------------------+--------------------------+------------------------+\n",
      "|revenue_zone|      revenue_month|service_type|revenue_monthly_fare|revenue_monthly_extra|revenue_monthly_mta_tax|revenue_monthly_tip_amount|revenue_monthly_tolls_amount|revenue_monthly_improvement_surcharge|revenue_monthly_total_amount|revenue_monthly_congestion_surcharge|avg_montly_passenger_count|avg_montly_trip_distance|\n",
      "+------------+-------------------+------------+--------------------+---------------------+-----------------------+--------------------------+----------------------------+-------------------------------------+----------------------------+------------------------------------+--------------------------+------------------------+\n",
      "|          40|2022-03-01 00:00:00|       green|              2809.4|                 39.0|                   52.0|                    557.47|                       58.95|                    49.80000000000003|                     3673.87|                                88.0|        1.1851851851851851|       263.1972891566266|\n",
      "|         136|2022-03-01 00:00:00|       green|   3602.910000000001|                  8.0|                   51.5|                     41.22|                      281.65|                                 33.9|           4027.429999999999|                                2.75|        1.1071428571428572|      1.2914035087719298|\n",
      "|          62|2022-05-01 00:00:00|       green|             2219.28|                  3.5|                   15.0|        254.98000000000002|                       19.65|                   26.699999999999992|          2555.6099999999997|                                 5.5|        1.1428571428571428|      1541.6528089887638|\n",
      "|          21|2022-03-01 00:00:00|       green|   968.3800000000001|                  1.5|                   12.5|                     14.67|                        26.2|                                  8.1|          1031.3500000000001|                                 0.0|                       1.6|      3.1825925925925924|\n",
      "|         131|2022-04-01 00:00:00|       green|              790.25|                  7.5|                   11.5|                      4.41|                        6.55|                                  8.7|           828.9100000000001|                                 0.0|        1.9310344827586208|       5.068333333333333|\n",
      "|         169|2022-04-01 00:00:00|       green|  1503.8500000000001|                 17.0|                   39.5|        20.330000000000002|                       19.65|                   28.799999999999997|                     1631.88|                                2.75|        1.1744186046511629|      2.2504123711340207|\n",
      "|          51|2022-06-01 00:00:00|       green|              1465.3|                  0.5|                   17.0|                     44.44|                        84.6|                   15.299999999999997|                     1629.89|                                 0.0|                     1.075|      2.6334615384615385|\n",
      "|         151|2022-07-01 00:00:00|       green|  208.70000000000002|                  0.0|                    1.0|        28.869999999999997|                        26.2|                   0.8999999999999999|          270.41999999999996|                                 0.0|                       1.0|                    8.72|\n",
      "|         107|2022-07-01 00:00:00|       green|                23.8|                  0.0|                    0.0|                      3.76|                        20.0|                                  0.3|                       47.86|                                null|                      null|                    5.22|\n",
      "|          87|2022-05-01 00:00:00|      yellow|           406926.38|              22447.0|                10733.5|         75080.08999999984|           7735.959999999981|                    6535.499999999375|           570079.0800000089|                             49642.5|        1.4284312763661335|       8.703819939193176|\n",
      "|         228|2022-05-01 00:00:00|      yellow|   6206.700000000002|                 49.0|                   97.0|         839.4699999999999|          372.25999999999993|                    63.30000000000007|           7751.479999999998|                                50.0|        1.2624113475177305|        5.87150234741784|\n",
      "|         239|2022-06-01 00:00:00|      yellow|   1165823.600000002|             101574.8|                49616.0|         242559.5200000031|          22609.620000000272|                   29911.800000012292|          1790291.9899997057|                            237225.0|         1.395222572876007|       4.425222567544751|\n",
      "|         143|2022-06-01 00:00:00|      yellow|   508654.5999999998|             43397.19|                21774.0|        100421.89000000016|           7747.379999999974|                   13132.500000002121|           773434.3599999646|                            101740.0|        1.3639481247132128|       2.418552024950277|\n",
      "|         256|2022-06-01 00:00:00|      yellow|            33646.42|                847.5|                  788.0|         6097.569999999997|          482.29999999999995|                   486.29999999999677|           44257.88999999996|                              1362.5|        1.4092592592592592|      4.4956996381182135|\n",
      "|          87|2008-12-01 00:00:00|      yellow|                13.5|                  0.0|                    0.5|                      3.36|                         0.0|                                  0.3|                       20.16|                                 2.5|                       1.0|                    2.68|\n",
      "|         119|2022-08-01 00:00:00|      yellow|   4546.660000000003|                 29.5|                   81.5|                    397.62|                      182.05|                    51.90000000000004|           5339.229999999999|                                42.5|        1.2754491017964071|       4.506480446927375|\n",
      "|         142|2022-02-01 00:00:00|      yellow|  1004259.9600000007|            103377.85|                48588.5|          213804.270000003|           9122.320000000043|                   29233.799999992385|           1578437.949999962|                            236872.5|        1.3835286261334112|      2.1698087278723914|\n",
      "|         244|2022-02-01 00:00:00|      yellow|   46804.50000000003|               1146.0|                 1295.5|         5844.399999999998|           978.0500000000006|                     788.400000000011|           58598.84999999956|                              2020.0|        1.3447030497592296|      31.343070895522402|\n",
      "|         196|2022-07-01 00:00:00|      yellow|             5733.91|                57.75|                   61.5|         851.7000000000003|          302.19999999999993|                   44.700000000000045|           7144.260000000001|                                92.5|        1.4866666666666666|        6.14577922077922|\n",
      "|         166|2022-02-01 00:00:00|       green|            50769.33|              1775.75|                 1888.0|         8774.840000000002|                       643.1|                   1257.0000000000246|           69448.46999999933|                             4210.25|        1.1970055161544524|       35.67989766777723|\n",
      "+------------+-------------------+------------+--------------------+---------------------+-----------------------+--------------------------+----------------------------+-------------------------------------+----------------------------+------------------------------------+--------------------------+------------------------+\n",
      "only showing top 20 rows\n",
      "\n"
     ]
    },
    {
     "name": "stderr",
     "output_type": "stream",
     "text": [
      "                                                                                \r"
     ]
    }
   ],
   "source": [
    "spark.sql(\"\"\"\n",
    "SELECT \n",
    "    -- Reveneue grouping \n",
    "    PULocationID AS revenue_zone,\n",
    "    date_trunc('month', pickup_datetime) AS revenue_month, \n",
    "    service_type, \n",
    "\n",
    "    -- Revenue calculation \n",
    "    SUM(fare_amount) AS revenue_monthly_fare,\n",
    "    SUM(extra) AS revenue_monthly_extra,\n",
    "    SUM(mta_tax) AS revenue_monthly_mta_tax,\n",
    "    SUM(tip_amount) AS revenue_monthly_tip_amount,\n",
    "    SUM(tolls_amount) AS revenue_monthly_tolls_amount,\n",
    "    SUM(improvement_surcharge) AS revenue_monthly_improvement_surcharge,\n",
    "    SUM(total_amount) AS revenue_monthly_total_amount,\n",
    "    SUM(congestion_surcharge) AS revenue_monthly_congestion_surcharge,\n",
    "\n",
    "    -- Additional calculations\n",
    "    AVG(passenger_count) AS avg_montly_passenger_count,\n",
    "    AVG(trip_distance) AS avg_montly_trip_distance\n",
    "FROM\n",
    "    trips_data_2022_view\n",
    "GROUP BY\n",
    "    1, 2, 3\n",
    "\"\"\").show()"
   ]
  },
  {
   "cell_type": "code",
   "execution_count": 11,
   "id": "b8da94c0",
   "metadata": {},
   "outputs": [],
   "source": [
    "result_df = spark.sql(\"\"\"\n",
    "SELECT \n",
    "    -- Reveneue grouping \n",
    "    PULocationID AS revenue_zone,\n",
    "    date_trunc('month', pickup_datetime) AS revenue_month, \n",
    "    service_type, \n",
    "\n",
    "    -- Revenue calculation \n",
    "    SUM(fare_amount) AS revenue_monthly_fare,\n",
    "    SUM(extra) AS revenue_monthly_extra,\n",
    "    SUM(mta_tax) AS revenue_monthly_mta_tax,\n",
    "    SUM(tip_amount) AS revenue_monthly_tip_amount,\n",
    "    SUM(tolls_amount) AS revenue_monthly_tolls_amount,\n",
    "    SUM(improvement_surcharge) AS revenue_monthly_improvement_surcharge,\n",
    "    SUM(total_amount) AS revenue_monthly_total_amount,\n",
    "    SUM(congestion_surcharge) AS revenue_monthly_congestion_surcharge,\n",
    "\n",
    "    -- Additional calculations\n",
    "    AVG(passenger_count) AS avg_montly_passenger_count,\n",
    "    AVG(trip_distance) AS avg_montly_trip_distance\n",
    "FROM\n",
    "    trips_data_2022_view\n",
    "GROUP BY\n",
    "    1, 2, 3\n",
    "\"\"\")"
   ]
  },
  {
   "cell_type": "code",
   "execution_count": 12,
   "id": "9dfd2f76",
   "metadata": {},
   "outputs": [
    {
     "name": "stderr",
     "output_type": "stream",
     "text": [
      "                                                                                \r"
     ]
    }
   ],
   "source": [
    "result_df.write.parquet('../data/taxi_tripdata/agg_taxi_revenue.parquet')"
   ]
  },
  {
   "cell_type": "code",
   "execution_count": null,
   "id": "4f58f2d5",
   "metadata": {},
   "outputs": [],
   "source": []
  }
 ],
 "metadata": {
  "kernelspec": {
   "display_name": "Python 3 (ipykernel)",
   "language": "python",
   "name": "python3"
  },
  "language_info": {
   "codemirror_mode": {
    "name": "ipython",
    "version": 3
   },
   "file_extension": ".py",
   "mimetype": "text/x-python",
   "name": "python",
   "nbconvert_exporter": "python",
   "pygments_lexer": "ipython3",
   "version": "3.9.12"
  }
 },
 "nbformat": 4,
 "nbformat_minor": 5
}
